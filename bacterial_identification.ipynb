{
 "cells": [
  {
   "cell_type": "markdown",
   "id": "925dfd38",
   "metadata": {},
   "source": [
    "# Application : Image processing (cas réel)"
   ]
  },
  {
   "cell_type": "markdown",
   "id": "e52007f4",
   "metadata": {},
   "source": [
    "Vous pouvez télécharger cette image a l'adresse suivante: https://www.google.com/search?sca_esv=562548860&sxsrf=AB5stBixX2i9hVpxhRK6TlPPdOIkT4hzdQ:1693842497163&q=bacterial+cell+viewed+with+light+microscope&tbm=isch&source=lnms&sa=X&ved=2ahUKEwi_3-SCp5GBAxUa9bsIHYmvBnMQ0pQJegQICxAB&biw=681&bih=593&dpr=1#imgrc=1JrCUfsJurhWeM"
   ]
  },
  {
   "cell_type": "code",
   "execution_count": null,
   "id": "93d4ce64",
   "metadata": {},
   "outputs": [],
   "source": []
  }
 ],
 "metadata": {
  "kernelspec": {
   "display_name": "Python 3 (ipykernel)",
   "language": "python",
   "name": "python3"
  },
  "language_info": {
   "codemirror_mode": {
    "name": "ipython",
    "version": 3
   },
   "file_extension": ".py",
   "mimetype": "text/x-python",
   "name": "python",
   "nbconvert_exporter": "python",
   "pygments_lexer": "ipython3",
   "version": "3.10.9"
  }
 },
 "nbformat": 4,
 "nbformat_minor": 5
}
